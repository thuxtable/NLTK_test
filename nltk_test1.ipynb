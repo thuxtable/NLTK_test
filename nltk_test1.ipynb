{
 "cells": [
  {
   "cell_type": "markdown",
   "metadata": {},
   "source": [
    "# NLTK Test on Final Fantasy Data\n",
    "\n",
    "This is a short test of importing FF data into a Jupyter notebook created in VS Code.\n",
    "\n",
    "## Set up dataframe"
   ]
  },
  {
   "cell_type": "code",
   "execution_count": 22,
   "metadata": {},
   "outputs": [],
   "source": [
    "import pandas as pd"
   ]
  },
  {
   "cell_type": "markdown",
   "metadata": {},
   "source": [
    "Create initial data frame with file"
   ]
  },
  {
   "cell_type": "code",
   "execution_count": 23,
   "metadata": {},
   "outputs": [
    {
     "data": {
      "text/html": [
       "<div>\n",
       "<style scoped>\n",
       "    .dataframe tbody tr th:only-of-type {\n",
       "        vertical-align: middle;\n",
       "    }\n",
       "\n",
       "    .dataframe tbody tr th {\n",
       "        vertical-align: top;\n",
       "    }\n",
       "\n",
       "    .dataframe thead th {\n",
       "        text-align: right;\n",
       "    }\n",
       "</style>\n",
       "<table border=\"1\" class=\"dataframe\">\n",
       "  <thead>\n",
       "    <tr style=\"text-align: right;\">\n",
       "      <th></th>\n",
       "      <th>Original</th>\n",
       "      <th>Character</th>\n",
       "      <th>Dialogue</th>\n",
       "      <th>Wordcount</th>\n",
       "    </tr>\n",
       "  </thead>\n",
       "  <tbody>\n",
       "    <tr>\n",
       "      <th>0</th>\n",
       "      <td>???:Prologue - Awake at Last</td>\n",
       "      <td>? ? ?</td>\n",
       "      <td>Prologue - Awake at Last</td>\n",
       "      <td>5</td>\n",
       "    </tr>\n",
       "    <tr>\n",
       "      <th>1</th>\n",
       "      <td>???:Tick, tock, tick, tock...</td>\n",
       "      <td>? ? ?</td>\n",
       "      <td>Tick, tock, tick, tock...</td>\n",
       "      <td>4</td>\n",
       "    </tr>\n",
       "    <tr>\n",
       "      <th>2</th>\n",
       "      <td>???:Time to wake up.</td>\n",
       "      <td>? ? ?</td>\n",
       "      <td>Time to wake up.</td>\n",
       "      <td>4</td>\n",
       "    </tr>\n",
       "    <tr>\n",
       "      <th>3</th>\n",
       "      <td>???:*Yawn* What a nap...</td>\n",
       "      <td>? ? ?</td>\n",
       "      <td>*Yawn* What a nap...</td>\n",
       "      <td>4</td>\n",
       "    </tr>\n",
       "    <tr>\n",
       "      <th>4</th>\n",
       "      <td>???:Oh, right. I gotta get to work.</td>\n",
       "      <td>? ? ?</td>\n",
       "      <td>Oh, right. I gotta get to work.</td>\n",
       "      <td>7</td>\n",
       "    </tr>\n",
       "  </tbody>\n",
       "</table>\n",
       "</div>"
      ],
      "text/plain": [
       "                              Original Character  \\\n",
       "0         ???:Prologue - Awake at Last     ? ? ?   \n",
       "1        ???:Tick, tock, tick, tock...     ? ? ?   \n",
       "2                 ???:Time to wake up.     ? ? ?   \n",
       "3             ???:*Yawn* What a nap...     ? ? ?   \n",
       "4  ???:Oh, right. I gotta get to work.     ? ? ?   \n",
       "\n",
       "                          Dialogue  Wordcount  \n",
       "0         Prologue - Awake at Last          5  \n",
       "1        Tick, tock, tick, tock...          4  \n",
       "2                 Time to wake up.          4  \n",
       "3             *Yawn* What a nap...          4  \n",
       "4  Oh, right. I gotta get to work.          7  "
      ]
     },
     "execution_count": 23,
     "metadata": {},
     "output_type": "execute_result"
    }
   ],
   "source": [
    "df = pd.read_csv('script_data/world-of-ff-script.csv')\n",
    "df.head()"
   ]
  },
  {
   "cell_type": "markdown",
   "metadata": {},
   "source": [
    "Fix the data by setting the index column"
   ]
  },
  {
   "cell_type": "code",
   "execution_count": 24,
   "metadata": {},
   "outputs": [
    {
     "data": {
      "text/html": [
       "<div>\n",
       "<style scoped>\n",
       "    .dataframe tbody tr th:only-of-type {\n",
       "        vertical-align: middle;\n",
       "    }\n",
       "\n",
       "    .dataframe tbody tr th {\n",
       "        vertical-align: top;\n",
       "    }\n",
       "\n",
       "    .dataframe thead th {\n",
       "        text-align: right;\n",
       "    }\n",
       "</style>\n",
       "<table border=\"1\" class=\"dataframe\">\n",
       "  <thead>\n",
       "    <tr style=\"text-align: right;\">\n",
       "      <th></th>\n",
       "      <th>Original</th>\n",
       "      <th>Dialogue</th>\n",
       "      <th>Wordcount</th>\n",
       "    </tr>\n",
       "    <tr>\n",
       "      <th>Character</th>\n",
       "      <th></th>\n",
       "      <th></th>\n",
       "      <th></th>\n",
       "    </tr>\n",
       "  </thead>\n",
       "  <tbody>\n",
       "    <tr>\n",
       "      <th>? ? ?</th>\n",
       "      <td>???:Prologue - Awake at Last</td>\n",
       "      <td>Prologue - Awake at Last</td>\n",
       "      <td>5</td>\n",
       "    </tr>\n",
       "    <tr>\n",
       "      <th>? ? ?</th>\n",
       "      <td>???:Tick, tock, tick, tock...</td>\n",
       "      <td>Tick, tock, tick, tock...</td>\n",
       "      <td>4</td>\n",
       "    </tr>\n",
       "    <tr>\n",
       "      <th>? ? ?</th>\n",
       "      <td>???:Time to wake up.</td>\n",
       "      <td>Time to wake up.</td>\n",
       "      <td>4</td>\n",
       "    </tr>\n",
       "    <tr>\n",
       "      <th>? ? ?</th>\n",
       "      <td>???:*Yawn* What a nap...</td>\n",
       "      <td>*Yawn* What a nap...</td>\n",
       "      <td>4</td>\n",
       "    </tr>\n",
       "    <tr>\n",
       "      <th>? ? ?</th>\n",
       "      <td>???:Oh, right. I gotta get to work.</td>\n",
       "      <td>Oh, right. I gotta get to work.</td>\n",
       "      <td>7</td>\n",
       "    </tr>\n",
       "  </tbody>\n",
       "</table>\n",
       "</div>"
      ],
      "text/plain": [
       "                                      Original  \\\n",
       "Character                                        \n",
       "? ? ?             ???:Prologue - Awake at Last   \n",
       "? ? ?            ???:Tick, tock, tick, tock...   \n",
       "? ? ?                     ???:Time to wake up.   \n",
       "? ? ?                 ???:*Yawn* What a nap...   \n",
       "? ? ?      ???:Oh, right. I gotta get to work.   \n",
       "\n",
       "                                  Dialogue  Wordcount  \n",
       "Character                                              \n",
       "? ? ?             Prologue - Awake at Last          5  \n",
       "? ? ?            Tick, tock, tick, tock...          4  \n",
       "? ? ?                     Time to wake up.          4  \n",
       "? ? ?                 *Yawn* What a nap...          4  \n",
       "? ? ?      Oh, right. I gotta get to work.          7  "
      ]
     },
     "execution_count": 24,
     "metadata": {},
     "output_type": "execute_result"
    }
   ],
   "source": [
    "fixed_df = pd.read_csv('script_data/world-of-ff-script.csv', index_col='Character')\n",
    "fixed_df.head()"
   ]
  },
  {
   "cell_type": "markdown",
   "metadata": {},
   "source": [
    "Show isolated Character:Dialogue key value pairs"
   ]
  },
  {
   "cell_type": "code",
   "execution_count": 25,
   "metadata": {},
   "outputs": [
    {
     "data": {
      "text/plain": [
       "Character\n",
       "? ? ?                                      Prologue - Awake at Last\n",
       "? ? ?                                     Tick, tock, tick, tock...\n",
       "? ? ?                                              Time to wake up.\n",
       "? ? ?                                          *Yawn* What a nap...\n",
       "? ? ?                               Oh, right. I gotta get to work.\n",
       "                                        ...                        \n",
       "Female Lilikin    Now there's nothing stopping me from enjoying ...\n",
       "Soldier           Ugh... What a pain... Huh? Say, you wouldn't h...\n",
       "Soldier                                        Good luck out there!\n",
       "Soldier           Hey, you're back! Thanks for doing my job for ...\n",
       "Soldier                         Ehh... Man, I don't want to work...\n",
       "Name: Dialogue, Length: 2017, dtype: object"
      ]
     },
     "execution_count": 25,
     "metadata": {},
     "output_type": "execute_result"
    }
   ],
   "source": [
    "fixed_df['Dialogue']"
   ]
  },
  {
   "cell_type": "markdown",
   "metadata": {},
   "source": [
    "## Begin NLTK tokenization\n",
    "\n",
    "Note that you may need to download NLTK libraries, as prompted"
   ]
  },
  {
   "cell_type": "code",
   "execution_count": 26,
   "metadata": {},
   "outputs": [],
   "source": [
    "import nltk\n",
    "# The following ay not be needed, depending on NLTK version\n",
    "# nltk.download('punkt')\n",
    "# nltk.download('stopwords')\n",
    "# nltk.download('wordnet')\n",
    "# nltk.download('omw-1.4')\n",
    "from nltk.tokenize import sent_tokenize, word_tokenize\n",
    "from nltk.stem import WordNetLemmatizer\n",
    "from nltk.corpus import stopwords"
   ]
  },
  {
   "cell_type": "code",
   "execution_count": 27,
   "metadata": {},
   "outputs": [
    {
     "name": "stdout",
     "output_type": "stream",
     "text": [
      "['This is going to does an exciting blades action intelligently scrappy writing writers writer write performer perform performers performance.']\n"
     ]
    }
   ],
   "source": [
    "example_text = \"This is going to does an exciting blades action intelligently scrappy writing writers writer write performer perform performers performance.\"\n",
    "# example_text = fixed_df['Dialogue'][43]\n",
    "sentences = sent_tokenize(example_text)\n",
    "\n",
    "print(sent_tokenize(example_text))"
   ]
  },
  {
   "cell_type": "code",
   "execution_count": 28,
   "metadata": {},
   "outputs": [
    {
     "name": "stdout",
     "output_type": "stream",
     "text": [
      "['This is going to doe an exciting blade action intelligently scrappy writing writer writer write performer perform performer performance .']\n"
     ]
    }
   ],
   "source": [
    "lemmatizer = WordNetLemmatizer()\n",
    "new__lemmatized_sentence = []\n",
    "for i in range(len(sentences)):\n",
    "    words = word_tokenize(sentences[i])\n",
    "    words = [lemmatizer.lemmatize(word) for word in words]\n",
    "    new__lemmatized_sentence.append(' '.join(words))\n",
    "print(new__lemmatized_sentence)"
   ]
  },
  {
   "cell_type": "code",
   "execution_count": 34,
   "metadata": {},
   "outputs": [
    {
     "name": "stdout",
     "output_type": "stream",
     "text": [
      "[\"Then again, it's not like business has picked up any.\"]\n",
      "[\"Then again , it 's not like business ha picked up any .\"]\n"
     ]
    }
   ],
   "source": [
    "# You can change the row location in the fixed_df dataframe below to access different sentences\n",
    "ff_sent = fixed_df['Dialogue'][6]\n",
    "ff_sentences = sent_tokenize(ff_sent)\n",
    "\n",
    "print(sent_tokenize(ff_sent))\n",
    "\n",
    "lemmatized_ff_data = []\n",
    "for i in range(len(ff_sentences)):\n",
    "    words = word_tokenize(ff_sentences[i])\n",
    "    words = [lemmatizer.lemmatize(word) for word in words]\n",
    "    lemmatized_ff_data.append(' '.join(words))\n",
    "print(lemmatized_ff_data)"
   ]
  }
 ],
 "metadata": {
  "kernelspec": {
   "display_name": "Python 3.9.7 ('base')",
   "language": "python",
   "name": "python3"
  },
  "language_info": {
   "codemirror_mode": {
    "name": "ipython",
    "version": 3
   },
   "file_extension": ".py",
   "mimetype": "text/x-python",
   "name": "python",
   "nbconvert_exporter": "python",
   "pygments_lexer": "ipython3",
   "version": "3.9.7"
  },
  "orig_nbformat": 4,
  "vscode": {
   "interpreter": {
    "hash": "0420d7d8aef4f0cc439acea0c78cc7786074a26bb4830ab7d5d8dcbb2e116359"
   }
  }
 },
 "nbformat": 4,
 "nbformat_minor": 2
}
