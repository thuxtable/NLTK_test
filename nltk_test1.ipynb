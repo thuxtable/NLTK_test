{
 "cells": [
  {
   "cell_type": "markdown",
   "metadata": {},
   "source": [
    "# NLTK Test on Final Fantasy Data\n",
    "\n",
    "This is a short test of importing FF data into a Jupyter notebook created in VS Code.\n",
    "\n",
    "## Set up dataframe"
   ]
  },
  {
   "cell_type": "code",
   "execution_count": 11,
   "metadata": {},
   "outputs": [],
   "source": [
    "import pandas as pd"
   ]
  },
  {
   "cell_type": "markdown",
   "metadata": {},
   "source": [
    "Create initial data frame with file"
   ]
  },
  {
   "cell_type": "code",
   "execution_count": 16,
   "metadata": {},
   "outputs": [
    {
     "data": {
      "text/html": [
       "<div>\n",
       "<style scoped>\n",
       "    .dataframe tbody tr th:only-of-type {\n",
       "        vertical-align: middle;\n",
       "    }\n",
       "\n",
       "    .dataframe tbody tr th {\n",
       "        vertical-align: top;\n",
       "    }\n",
       "\n",
       "    .dataframe thead th {\n",
       "        text-align: right;\n",
       "    }\n",
       "</style>\n",
       "<table border=\"1\" class=\"dataframe\">\n",
       "  <thead>\n",
       "    <tr style=\"text-align: right;\">\n",
       "      <th></th>\n",
       "      <th>Original</th>\n",
       "      <th>Character</th>\n",
       "      <th>Dialogue</th>\n",
       "      <th>Wordcount</th>\n",
       "    </tr>\n",
       "  </thead>\n",
       "  <tbody>\n",
       "    <tr>\n",
       "      <th>0</th>\n",
       "      <td>Barret: C'mon newcomer. Follow me.</td>\n",
       "      <td>Barret</td>\n",
       "      <td>C'mon newcomer. Follow me.</td>\n",
       "      <td>4</td>\n",
       "    </tr>\n",
       "    <tr>\n",
       "      <th>1</th>\n",
       "      <td>Biggs: Wow! You used to be in SOLDIER all righ...</td>\n",
       "      <td>Biggs</td>\n",
       "      <td>Wow! You used to be in SOLDIER all right! ...N...</td>\n",
       "      <td>19</td>\n",
       "    </tr>\n",
       "    <tr>\n",
       "      <th>2</th>\n",
       "      <td>Jessie: SOLDIER? Aren't they the enemy? What's...</td>\n",
       "      <td>Jessie</td>\n",
       "      <td>SOLDIER? Aren't they the enemy? What's he doin...</td>\n",
       "      <td>12</td>\n",
       "    </tr>\n",
       "    <tr>\n",
       "      <th>3</th>\n",
       "      <td>Biggs: Hold it, Jessie. He WAS in SOLDIER. He ...</td>\n",
       "      <td>Biggs</td>\n",
       "      <td>Hold it, Jessie. He WAS in SOLDIER. He quit th...</td>\n",
       "      <td>16</td>\n",
       "    </tr>\n",
       "    <tr>\n",
       "      <th>4</th>\n",
       "      <td>Biggs: Didn't catch your name...</td>\n",
       "      <td>Biggs</td>\n",
       "      <td>Didn't catch your name...</td>\n",
       "      <td>4</td>\n",
       "    </tr>\n",
       "  </tbody>\n",
       "</table>\n",
       "</div>"
      ],
      "text/plain": [
       "                                            Original Character  \\\n",
       "0                 Barret: C'mon newcomer. Follow me.    Barret   \n",
       "1  Biggs: Wow! You used to be in SOLDIER all righ...     Biggs   \n",
       "2  Jessie: SOLDIER? Aren't they the enemy? What's...    Jessie   \n",
       "3  Biggs: Hold it, Jessie. He WAS in SOLDIER. He ...     Biggs   \n",
       "4                   Biggs: Didn't catch your name...     Biggs   \n",
       "\n",
       "                                            Dialogue  Wordcount  \n",
       "0                         C'mon newcomer. Follow me.          4  \n",
       "1  Wow! You used to be in SOLDIER all right! ...N...         19  \n",
       "2  SOLDIER? Aren't they the enemy? What's he doin...         12  \n",
       "3  Hold it, Jessie. He WAS in SOLDIER. He quit th...         16  \n",
       "4                          Didn't catch your name...          4  "
      ]
     },
     "execution_count": 16,
     "metadata": {},
     "output_type": "execute_result"
    }
   ],
   "source": [
    "df = pd.read_csv('script_data/ff7-script.csv')\n",
    "df.head()"
   ]
  },
  {
   "cell_type": "markdown",
   "metadata": {},
   "source": [
    "Fix the data by setting the index column"
   ]
  },
  {
   "cell_type": "code",
   "execution_count": 13,
   "metadata": {},
   "outputs": [
    {
     "data": {
      "text/html": [
       "<div>\n",
       "<style scoped>\n",
       "    .dataframe tbody tr th:only-of-type {\n",
       "        vertical-align: middle;\n",
       "    }\n",
       "\n",
       "    .dataframe tbody tr th {\n",
       "        vertical-align: top;\n",
       "    }\n",
       "\n",
       "    .dataframe thead th {\n",
       "        text-align: right;\n",
       "    }\n",
       "</style>\n",
       "<table border=\"1\" class=\"dataframe\">\n",
       "  <thead>\n",
       "    <tr style=\"text-align: right;\">\n",
       "      <th></th>\n",
       "      <th>Original</th>\n",
       "      <th>Dialogue</th>\n",
       "      <th>Wordcount</th>\n",
       "    </tr>\n",
       "    <tr>\n",
       "      <th>Character</th>\n",
       "      <th></th>\n",
       "      <th></th>\n",
       "      <th></th>\n",
       "    </tr>\n",
       "  </thead>\n",
       "  <tbody>\n",
       "    <tr>\n",
       "      <th>Barret</th>\n",
       "      <td>Barret: C'mon newcomer. Follow me.</td>\n",
       "      <td>C'mon newcomer. Follow me.</td>\n",
       "      <td>4</td>\n",
       "    </tr>\n",
       "    <tr>\n",
       "      <th>Biggs</th>\n",
       "      <td>Biggs: Wow! You used to be in SOLDIER all righ...</td>\n",
       "      <td>Wow! You used to be in SOLDIER all right! ...N...</td>\n",
       "      <td>19</td>\n",
       "    </tr>\n",
       "    <tr>\n",
       "      <th>Jessie</th>\n",
       "      <td>Jessie: SOLDIER? Aren't they the enemy? What's...</td>\n",
       "      <td>SOLDIER? Aren't they the enemy? What's he doin...</td>\n",
       "      <td>12</td>\n",
       "    </tr>\n",
       "    <tr>\n",
       "      <th>Biggs</th>\n",
       "      <td>Biggs: Hold it, Jessie. He WAS in SOLDIER. He ...</td>\n",
       "      <td>Hold it, Jessie. He WAS in SOLDIER. He quit th...</td>\n",
       "      <td>16</td>\n",
       "    </tr>\n",
       "    <tr>\n",
       "      <th>Biggs</th>\n",
       "      <td>Biggs: Didn't catch your name...</td>\n",
       "      <td>Didn't catch your name...</td>\n",
       "      <td>4</td>\n",
       "    </tr>\n",
       "  </tbody>\n",
       "</table>\n",
       "</div>"
      ],
      "text/plain": [
       "                                                    Original  \\\n",
       "Character                                                      \n",
       "Barret                    Barret: C'mon newcomer. Follow me.   \n",
       "Biggs      Biggs: Wow! You used to be in SOLDIER all righ...   \n",
       "Jessie     Jessie: SOLDIER? Aren't they the enemy? What's...   \n",
       "Biggs      Biggs: Hold it, Jessie. He WAS in SOLDIER. He ...   \n",
       "Biggs                       Biggs: Didn't catch your name...   \n",
       "\n",
       "                                                    Dialogue  Wordcount  \n",
       "Character                                                                \n",
       "Barret                            C'mon newcomer. Follow me.          4  \n",
       "Biggs      Wow! You used to be in SOLDIER all right! ...N...         19  \n",
       "Jessie     SOLDIER? Aren't they the enemy? What's he doin...         12  \n",
       "Biggs      Hold it, Jessie. He WAS in SOLDIER. He quit th...         16  \n",
       "Biggs                              Didn't catch your name...          4  "
      ]
     },
     "execution_count": 13,
     "metadata": {},
     "output_type": "execute_result"
    }
   ],
   "source": [
    "fixed_df = pd.read_csv('script_data/ff7-script.csv', index_col='Character')\n",
    "fixed_df.head()"
   ]
  },
  {
   "cell_type": "markdown",
   "metadata": {},
   "source": [
    "Show isolated Character:Dialogue key value pairs"
   ]
  },
  {
   "cell_type": "code",
   "execution_count": 14,
   "metadata": {},
   "outputs": [
    {
     "data": {
      "text/plain": [
       "Character\n",
       "Barret                                   C'mon newcomer. Follow me.\n",
       "Biggs             Wow! You used to be in SOLDIER all right! ...N...\n",
       "Jessie            SOLDIER? Aren't they the enemy? What's he doin...\n",
       "Biggs             Hold it, Jessie. He WAS in SOLDIER. He quit th...\n",
       "Biggs                                     Didn't catch your name...\n",
       "                                        ...                        \n",
       "Zack              Just kidding... I won't leave you hanging like...\n",
       "Zack              ...We're friends, right? Mercenaries, Cloud. T...\n",
       "Shinra Soldier                     What do you want to do with him?\n",
       "Cloud                                          ...Ah...ughhhh......\n",
       "Commander                             ...Forget it. Just leave him.\n",
       "Name: Dialogue, Length: 6242, dtype: object"
      ]
     },
     "execution_count": 14,
     "metadata": {},
     "output_type": "execute_result"
    }
   ],
   "source": [
    "fixed_df['Dialogue']"
   ]
  },
  {
   "cell_type": "markdown",
   "metadata": {},
   "source": [
    "## Begin NLTK tokenization\n",
    "\n",
    "Note that you may need to download NLTK libraries, as prompted"
   ]
  },
  {
   "cell_type": "code",
   "execution_count": 73,
   "metadata": {},
   "outputs": [],
   "source": [
    "import nltk\n",
    "# The following ay not be needed, depending on NLTK version\n",
    "# nltk.download('punkt')\n",
    "# nltk.download('stopwords')\n",
    "# nltk.download('wordnet')\n",
    "# nltk.download('omw-1.4')\n",
    "from nltk.tokenize import sent_tokenize, word_tokenize\n",
    "from nltk.stem import WordNetLemmatizer\n",
    "from nltk.corpus import stopwords"
   ]
  },
  {
   "cell_type": "code",
   "execution_count": 110,
   "metadata": {},
   "outputs": [
    {
     "name": "stdout",
     "output_type": "stream",
     "text": [
      "['This is going to does a exciting blades action intelligently scrappy writing writers writer write performer perform performers performance.']\n"
     ]
    }
   ],
   "source": [
    "example_text = \"This is going to does a exciting blades action intelligently scrappy writing writers writer write performer perform performers performance.\"\n",
    "# example_text = fixed_df['Dialogue'][43]\n",
    "sentences = sent_tokenize(example_text)\n",
    "\n",
    "print(sent_tokenize(example_text))"
   ]
  },
  {
   "cell_type": "code",
   "execution_count": 111,
   "metadata": {},
   "outputs": [
    {
     "name": "stdout",
     "output_type": "stream",
     "text": [
      "['This is going to doe a exciting blade action intelligently scrappy writing writer writer write performer perform performer performance .']\n"
     ]
    }
   ],
   "source": [
    "lemmatizer = WordNetLemmatizer()\n",
    "new__lemmatized_sentence = []\n",
    "for i in range(len(sentences)):\n",
    "    words = word_tokenize(sentences[i])\n",
    "    words = [lemmatizer.lemmatize(word) for word in words]\n",
    "    new__lemmatized_sentence.append(' '.join(words))\n",
    "print(new__lemmatized_sentence)"
   ]
  }
 ],
 "metadata": {
  "interpreter": {
   "hash": "54343eb3cf63edeaaae6a1979b3d4ea21c562f7068b8acc52a711e10cc82b548"
  },
  "kernelspec": {
   "display_name": "Python 3.9.11 ('myenv')",
   "language": "python",
   "name": "python3"
  },
  "language_info": {
   "codemirror_mode": {
    "name": "ipython",
    "version": 3
   },
   "file_extension": ".py",
   "mimetype": "text/x-python",
   "name": "python",
   "nbconvert_exporter": "python",
   "pygments_lexer": "ipython3",
   "version": "3.9.11"
  },
  "orig_nbformat": 4
 },
 "nbformat": 4,
 "nbformat_minor": 2
}
